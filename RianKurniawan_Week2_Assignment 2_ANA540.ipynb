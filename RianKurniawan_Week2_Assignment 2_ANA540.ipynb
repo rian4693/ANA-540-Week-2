{
 "cells": [
  {
   "cell_type": "markdown",
   "id": "63071ba4",
   "metadata": {},
   "source": [
    "# Assignment 2: Regularization in Regression Models\n",
    "\n",
    "Before you submit this assignment, please carefully read these submission instructions:\n",
    "\n",
    " - Make sure the notebook you submit is cleanly and **fully executed**. I do not grade unexecuted notebooks.\n",
    " - Submit your notebook back in Blackboard where you downloaded this file.\n",
    " - Submit your work **as a .ipynb** python file on blackboard.\n",
    " - Please name your *.ipynb* file using the following format: Firstname_week2_assignment.ipynb"
   ]
  },
  {
   "cell_type": "markdown",
   "id": "85a2bfc5",
   "metadata": {},
   "source": [
    "**Goal: In this assignment, we will explore regularization techniques like Ridge, Lasso, and ElasticNet (optional) regression. The goal is to review regularization concepts through hands-on implementation of these models.**"
   ]
  },
  {
   "cell_type": "markdown",
   "id": "3f96b4b8",
   "metadata": {},
   "source": [
    "#### Assignment Tasks\n",
    "\n",
    "- Perform data exploration.\n",
    "- Explore the data through visualizations\n",
    "- Fit a baseline multiple linear regression model\n",
    "- Fit Ridge regression with different alpha values\n",
    "- Fit Lasso regression with different alpha values\n",
    "- Analyze impact of alpha on model coefficients\n",
    "- Evaluate and compare models using R-squared, RMSE\n",
    "- Summarize key differences between the regularization techniques\n",
    "- (Optional) Dive into elastic net and compare its performance."
   ]
  },
  {
   "cell_type": "markdown",
   "id": "f69a6b37",
   "metadata": {},
   "source": [
    "#### Introduction to the Boston Housing Dataset:\n",
    "\n",
    "For this assignment, we will be working with the Boston Housing dataset. This dataset provides an array of information related to housing prices in Boston and several predictor variables. It offers a real-world application, allowing us to explore how different factors might influence house prices. Here's a brief overview of the features:\n",
    "\n",
    "- CRIM: Per capita crime rate by town.\n",
    "- ZN: Proportion of residential land zoned for lots over 25,000 sq. ft.\n",
    "- INDUS: Proportion of non-retail business acres per town.\n",
    "- CHAS: Charles River dummy variable (= 1 if tract bounds river; 0 otherwise).\n",
    "- NOX: Nitric oxide concentration (parts per 10 million).\n",
    "- RM: Average number of rooms per dwelling.\n",
    "- AGE: Proportion of owner-occupied units built before 1940.\n",
    "- DIS: Weighted distances to five Boston employment centers.\n",
    "- RAD: Index of accessibility to radial highways.\n",
    "- TAX: Full-value property tax rate per $10,000.\n",
    "- PTRATIO: Pupil-teacher ratio by town.\n",
    "\n",
    "- B: 1000(Bk - 0.63)^2 where Bk is the proportion of African Americans by town\n",
    "- LSTAT: Percentage of the population considered lower status.\n",
    "- **MEDV**: Median value of owner-occupied homes (in $1000s).\n",
    "\n",
    "\n",
    "##### Accessing the Dataset:\n",
    "The Boston Housing dataset is available for download on Blackboard. Navigate to the Assignment folder for Week 2 to access the dataset."
   ]
  },
  {
   "cell_type": "markdown",
   "id": "f6b2e6f7",
   "metadata": {},
   "source": [
    "##### Going Beyond\n",
    "\n",
    "You are encouraged to further your analysis and experiment with the data. Additional visualizations, insights, or even diving deeper into elastic net regression will enhance your understanding and showcase your analytical prowess."
   ]
  },
  {
   "cell_type": "markdown",
   "id": "b5920bd4",
   "metadata": {},
   "source": [
    "<br>"
   ]
  },
  {
   "cell_type": "markdown",
   "id": "bd59a055",
   "metadata": {},
   "source": [
    "## Task 1: Load Dataset and Examine Basic Information\n"
   ]
  },
  {
   "cell_type": "code",
   "execution_count": 3,
   "id": "2ac5e09e",
   "metadata": {},
   "outputs": [],
   "source": [
    "\n",
    "# Import packages\n"
   ]
  },
  {
   "cell_type": "code",
   "execution_count": 2,
   "id": "363e7b0c",
   "metadata": {},
   "outputs": [],
   "source": [
    "# Load Dataset \n"
   ]
  },
  {
   "cell_type": "code",
   "execution_count": 2,
   "id": "78d1c0d6",
   "metadata": {},
   "outputs": [],
   "source": [
    "# Examine Basic Information\n"
   ]
  },
  {
   "cell_type": "markdown",
   "id": "d351cceb",
   "metadata": {},
   "source": [
    "**<font color=blue>Please answer the following questions to provide basic information about the Boston Housing Dataset</font>**\n",
    "- How many features does the Boston Housing Dataset contain?\n",
    "- What are the data types for each column?"
   ]
  },
  {
   "cell_type": "code",
   "execution_count": null,
   "id": "485aee91",
   "metadata": {},
   "outputs": [],
   "source": []
  },
  {
   "cell_type": "code",
   "execution_count": null,
   "id": "4e91ba83",
   "metadata": {},
   "outputs": [],
   "source": []
  },
  {
   "cell_type": "code",
   "execution_count": null,
   "id": "25c485fe",
   "metadata": {},
   "outputs": [],
   "source": []
  },
  {
   "cell_type": "markdown",
   "id": "97f0e75d",
   "metadata": {},
   "source": [
    "## Task 2: Exploratory Data Analysis (EDA): Data Visualization and Insights"
   ]
  },
  {
   "cell_type": "markdown",
   "id": "e0c9f12c",
   "metadata": {},
   "source": [
    "##### 1. Basic Statistics:\n",
    "\n",
    "Generate descriptive statistics"
   ]
  },
  {
   "cell_type": "code",
   "execution_count": null,
   "id": "9399092c",
   "metadata": {},
   "outputs": [],
   "source": []
  },
  {
   "cell_type": "markdown",
   "id": "6584a270",
   "metadata": {},
   "source": [
    "##### 2. Data Distribution:\n",
    "\n",
    "   - Plot histograms or density plots for one or some key features and the target variable `MEDV` to understand their distribution."
   ]
  },
  {
   "cell_type": "code",
   "execution_count": null,
   "id": "ad445e85",
   "metadata": {},
   "outputs": [],
   "source": []
  },
  {
   "cell_type": "code",
   "execution_count": null,
   "id": "db277d0f",
   "metadata": {},
   "outputs": [],
   "source": []
  },
  {
   "cell_type": "markdown",
   "id": "a7104b4b",
   "metadata": {},
   "source": [
    "##### 3. Correlation Analysis:\n",
    "\n",
    "  - Compute the correlation matrix and visualize it using a heatmap to identify features that are most correlated with the target variable `MEDV`."
   ]
  },
  {
   "cell_type": "code",
   "execution_count": null,
   "id": "b23976e4",
   "metadata": {},
   "outputs": [],
   "source": []
  },
  {
   "cell_type": "code",
   "execution_count": null,
   "id": "0317d5c8",
   "metadata": {},
   "outputs": [],
   "source": []
  },
  {
   "cell_type": "markdown",
   "id": "f1955bb5",
   "metadata": {},
   "source": [
    "**Optional**: 4. Scatter Plots: \n",
    "\n",
    "- Create scatter plots for the features `RM` and `LSTAT` against `MEDV` to visualize their relationship.\n",
    "\n",
    "\n",
    "*This is an optional task; completing it will allow you to observe the relationships among these variables, but you won't lose points for skipping it. Feel free to create any additional visualizations you'd like to further explore*"
   ]
  },
  {
   "cell_type": "code",
   "execution_count": null,
   "id": "8aa4f6db",
   "metadata": {},
   "outputs": [],
   "source": []
  },
  {
   "cell_type": "code",
   "execution_count": null,
   "id": "59171113",
   "metadata": {},
   "outputs": [],
   "source": []
  },
  {
   "cell_type": "markdown",
   "id": "8c0e50f7",
   "metadata": {},
   "source": [
    "\n",
    "### <font color=blue>Question</font>\n",
    "\n",
    "**Write down your observations from the above visualizations: Which features seem to have a strong relationship with the target variable?**"
   ]
  },
  {
   "cell_type": "code",
   "execution_count": null,
   "id": "361cddd1",
   "metadata": {},
   "outputs": [],
   "source": []
  },
  {
   "cell_type": "code",
   "execution_count": null,
   "id": "b3962205",
   "metadata": {},
   "outputs": [],
   "source": []
  },
  {
   "cell_type": "markdown",
   "id": "2995ac05",
   "metadata": {},
   "source": [
    "## Task 3: Data Preprocessing:\n",
    "\n",
    "We only cover handling missing values in this assisgnment. We will skip the feature scaling step for now. Once we learn about feature scaling, we will include it in the data preprocessing step. It is important to include data preprocessing like handling missing values, encoding categorical variables, treating outliers，and feature scaling in your final project to ensure the robustness and accuracy of your models."
   ]
  },
  {
   "cell_type": "markdown",
   "id": "130ccf74",
   "metadata": {},
   "source": [
    "##### Handling Missing Values\n",
    "\n",
    "In this homework, we will remove rows containing missing values, but remember that other strategies like imputation might be more suitable in other cases.\n",
    "\n",
    "Note: Always be cautious when dropping data. Ensure that the amount of data being dropped doesn't significantly impact the dataset's integrity."
   ]
  },
  {
   "cell_type": "code",
   "execution_count": 1,
   "id": "784167c4",
   "metadata": {},
   "outputs": [],
   "source": [
    "# Check for missing values in each column\n",
    "\n",
    "\n",
    "\n",
    "# Drop rows with missing values\n",
    "\n",
    "\n"
   ]
  },
  {
   "cell_type": "markdown",
   "id": "21eef6ff",
   "metadata": {},
   "source": [
    "**<font color=blue>Please answer this question</font>**\n",
    "\n",
    "- Are there any missing values in the dataset? If so, how many missing values are there in each column?"
   ]
  },
  {
   "cell_type": "code",
   "execution_count": null,
   "id": "cbb6958e",
   "metadata": {},
   "outputs": [],
   "source": [
    "\n"
   ]
  },
  {
   "cell_type": "markdown",
   "id": "9a9e4cbf",
   "metadata": {},
   "source": [
    "<br>"
   ]
  },
  {
   "cell_type": "markdown",
   "id": "670e60bd",
   "metadata": {},
   "source": [
    "## Task 4: Train-Test Split \n",
    "\n",
    "Splitting the Data:\n",
    "\n",
    "Before diving into building models, it's essential to split your dataset into a training set and a test set. This will allow you to train your models on one subset of the data and test its performance on another unseen subset.\n",
    "\n",
    "- Split the dataset into training (70%) and testing (30%) sets.\n",
    "- Use random_state=42"
   ]
  },
  {
   "cell_type": "code",
   "execution_count": null,
   "id": "dc84fe01",
   "metadata": {},
   "outputs": [],
   "source": []
  },
  {
   "cell_type": "code",
   "execution_count": null,
   "id": "9b08b3b6",
   "metadata": {},
   "outputs": [],
   "source": []
  },
  {
   "cell_type": "markdown",
   "id": "b3b25689",
   "metadata": {},
   "source": [
    "## Task 5: Model Building and Evaluation"
   ]
  },
  {
   "cell_type": "markdown",
   "id": "0db5a20a",
   "metadata": {},
   "source": [
    "**I have provided example code for linear regression and ridge regression in this homework assignment. You may need to adjust those code samples slightly to match your own implementations based on your previous tasks.**  \n",
    "\n",
    "**For lasso regression, you can use the linear regression and ridge regression snippets as a reference. The overall structure is similar - you need to initialize a Lasso model, fit it to training data, predict on test data, and evaluate performance.**"
   ]
  },
  {
   "cell_type": "markdown",
   "id": "a22e1a54",
   "metadata": {},
   "source": [
    "\n",
    "\n",
    "### 1. Multiple Linear Regression\n",
    "\n",
    "-  #### 1). Building the Model: \n",
    "\n",
    "    - Start with a simple multiple linear regression model to understand the relationships between the features and the target variable."
   ]
  },
  {
   "cell_type": "code",
   "execution_count": 6,
   "id": "6e18f85d",
   "metadata": {},
   "outputs": [
    {
     "data": {
      "text/plain": [
       "LinearRegression()"
      ]
     },
     "execution_count": 6,
     "metadata": {},
     "output_type": "execute_result"
    }
   ],
   "source": [
    "#Imports the LinearRegression class from sklearn.linear_model module. \n",
    "from sklearn.linear_model import LinearRegression\n",
    "\n",
    "#Initializes a LinearRegression object by calling the LinearRegression() constructor. \n",
    "#This creates an empty linear regression model.\n",
    "linear_model = LinearRegression() \n"
   ]
  },
  {
   "cell_type": "markdown",
   "id": "5949e941",
   "metadata": {},
   "source": [
    "- #### 2). Training the Model:"
   ]
  },
  {
   "cell_type": "code",
   "execution_count": 7,
   "id": "0b51aad6",
   "metadata": {},
   "outputs": [
    {
     "data": {
      "text/plain": [
       "LinearRegression()"
      ]
     },
     "execution_count": 7,
     "metadata": {},
     "output_type": "execute_result"
    }
   ],
   "source": [
    "#Calls the .fit() method on the linear regression object \n",
    "#and passes the training data - X_train features and y_train labels.\n",
    "linear_model.fit(X_train, y_train)"
   ]
  },
  {
   "cell_type": "markdown",
   "id": "79a9d4de",
   "metadata": {},
   "source": [
    "- #### 3). Model Evaluation:\n",
    "\n",
    "After fitting the model, evaluate its performance on the test set using R2 and RMSE.\n",
    "\n",
    "Let's briefly review some key concepts from our previous statistics courses.\n",
    "\n",
    "- R-squared (R2):\n",
    "\n",
    "    - Measures how much of the variation in the response/target variable is explained by the model.\n",
    "    - Values range from 0 to 1. Higher is better.\n",
    "    - Can be inflated by overfitting.\n",
    "\n",
    "\n",
    "\n",
    "- RMSE:\n",
    "\n",
    "    - Measures the average difference between predicted and actual values.\n",
    "    - Shows how far off the predictions are.\n",
    "    - In same units as response variable. Lower is better.\n",
    "\n",
    "\n",
    "- **When to use:**\n",
    "\n",
    "    - R2 to assess model fit. How much variance is explained.\n",
    "    - RMSE to assess prediction accuracy. How close predictions are to true values.\n",
    "    - Use both together to get a complete picture. R2 for fit, **RMSE for accuracy**."
   ]
  },
  {
   "cell_type": "code",
   "execution_count": 8,
   "id": "cb2f0e3c",
   "metadata": {},
   "outputs": [
    {
     "name": "stdout",
     "output_type": "stream",
     "text": [
      "R^2 Score: 0.6905175764205992\n",
      "RMSE: 5.373152885248426\n"
     ]
    }
   ],
   "source": [
    "import numpy as np\n",
    "\n",
    "#Imports mean_squared_error and r2_score from sklearn.metrics to calculate model evaluation metrics.\n",
    "from sklearn.metrics import mean_squared_error, r2_score\n",
    "\n",
    "y_pred = linear_model.predict(X_test) #Uses the fitted linear regression model to make predictions on the test data \n",
    "rmse = np.sqrt(mean_squared_error(y_test, y_pred)) #Calculates RMSE between true test labels y_test and predictions y_pred.\n",
    "r2 = r2_score(y_test, y_pred) #Calculates R2 score between y_test and y_pred.\n",
    "\n",
    "print(f\"R^2 Score: {r2}\")\n",
    "print(f\"RMSE: {rmse}\")"
   ]
  },
  {
   "cell_type": "code",
   "execution_count": null,
   "id": "829f31b4",
   "metadata": {},
   "outputs": [],
   "source": []
  },
  {
   "cell_type": "markdown",
   "id": "e4a8503d",
   "metadata": {},
   "source": [
    "<br>"
   ]
  },
  {
   "cell_type": "markdown",
   "id": "28298721",
   "metadata": {},
   "source": [
    "### 2: Ridge Regression\n",
    "\n",
    "Ridge regression is a regularized linear regression method that adds a penalty equal to the square of the magnitude of the coefficients. This shrinks the coefficients and helps prevent overfitting.\n",
    "\n",
    "**Part a:**\n",
    "- #### 1). Building the Model:\n"
   ]
  },
  {
   "cell_type": "code",
   "execution_count": 8,
   "id": "4f250617",
   "metadata": {},
   "outputs": [],
   "source": [
    "\n",
    "from sklearn.linear_model import Ridge\n",
    "\n",
    "# Initialize the Ridge model with default alpha value (1.0)\n",
    "ridge_model = Ridge(alpha=1.0)\n"
   ]
  },
  {
   "cell_type": "markdown",
   "id": "e9055fe8",
   "metadata": {},
   "source": [
    "- #### 2). Training the Model:"
   ]
  },
  {
   "cell_type": "code",
   "execution_count": 9,
   "id": "1a1533dc",
   "metadata": {},
   "outputs": [
    {
     "data": {
      "text/plain": [
       "Ridge()"
      ]
     },
     "execution_count": 9,
     "metadata": {},
     "output_type": "execute_result"
    }
   ],
   "source": [
    "# Fit the model on the training data\n",
    "ridge_model.fit(X_train, y_train)\n"
   ]
  },
  {
   "cell_type": "markdown",
   "id": "8627e9cb",
   "metadata": {},
   "source": [
    "- #### 3). Model Evaluation:"
   ]
  },
  {
   "cell_type": "code",
   "execution_count": 10,
   "id": "419dd14f",
   "metadata": {},
   "outputs": [
    {
     "name": "stdout",
     "output_type": "stream",
     "text": [
      "R^2 Score for Ridge Regression: 0.6864841424477442\n",
      "RMSE for Ridge Regression: 5.4080532534462336\n"
     ]
    }
   ],
   "source": [
    "# Predict on the test set\n",
    "y_pred_ridge = ridge_model.predict(X_test)\n",
    "\n",
    "# Calculate the R^2 score and RMSE\n",
    "r2_ridge = r2_score(y_test, y_pred_ridge)\n",
    "rmse_ridge = np.sqrt(mean_squared_error(y_test, y_pred_ridge))\n",
    "\n",
    "print(f\"R^2 Score for Ridge Regression: {r2_ridge}\")\n",
    "print(f\"RMSE for Ridge Regression: {rmse_ridge}\")\n"
   ]
  },
  {
   "cell_type": "markdown",
   "id": "4244a7f1",
   "metadata": {},
   "source": [
    "#### Part b. Exploring the Impact of Regularization Parameter (α):\n",
    "\n",
    "The regularization strength in Ridge Regression is controlled by the parameter α. A small α values can lead to over fitting, while a large α can lead to under-fitting.\n",
    "\n",
    "Here, we'll train several Ridge Regression models with varying α values to observe the impact on the model coefficients. **We'll use the following α values: 0.01, 0.1, 1, 10, and 100.**\n",
    "\n",
    "- to examine the impact of the regularization strength on the model coefficients.\n",
    "- understand how the choice of α influences the model's performance, as reflected in the  R^2 and RMSE metrics."
   ]
  },
  {
   "cell_type": "markdown",
   "id": "34e5e613",
   "metadata": {},
   "source": [
    "**1). Use the following α values: 0.01, 0.1, 1, 10, and 100 to examine the impact of the regularization strength on the model coefficients.** Here are two approaches you can consider:\n",
    "\n",
    "- **Build models individually for each α.**\n",
    "- Use a `for loop` to iterate over the α values, creating and fitting models more efficiently."
   ]
  },
  {
   "cell_type": "code",
   "execution_count": 11,
   "id": "0032962c",
   "metadata": {},
   "outputs": [
    {
     "data": {
      "text/plain": [
       "[array([-1.12908735e-01,  4.50050539e-02,  5.64309550e-02,  1.17964599e+00,\n",
       "        -1.70429972e+01,  4.27276541e+00, -2.01690621e-02, -1.40352331e+00,\n",
       "         2.76898251e-01, -1.68158740e-02, -8.94340643e-01,  9.08141590e-03,\n",
       "        -3.64802112e-01]),\n",
       " array([-1.12250819e-01,  4.53744915e-02,  4.75000293e-02,  1.16831663e+00,\n",
       "        -1.53660456e+01,  4.28323932e+00, -2.15384522e-02, -1.38102670e+00,\n",
       "         2.70717498e-01, -1.67893082e-02, -8.75956243e-01,  9.15397551e-03,\n",
       "        -3.66457945e-01]),\n",
       " array([-1.09316246e-01,  4.72385591e-02,  6.76019379e-03,  1.09221737e+00,\n",
       "        -7.74869186e+00,  4.30114368e+00, -2.75796589e-02, -1.27956987e+00,\n",
       "         2.43548667e-01, -1.66987934e-02, -7.93533535e-01,  9.46403942e-03,\n",
       "        -3.75956777e-01]),\n",
       " array([-0.10731732,  0.05140272, -0.0306467 ,  0.76740379, -1.30744721,\n",
       "         3.87752003, -0.02994011, -1.19939142,  0.2326711 , -0.01700195,\n",
       "        -0.73877619,  0.00941524, -0.41290037]),\n",
       " array([-0.10501671,  0.06082286, -0.04542761,  0.2489019 , -0.13289811,\n",
       "         1.87150035, -0.01397981, -1.06960754,  0.26899388, -0.01809119,\n",
       "        -0.76450259,  0.0078404 , -0.54457857])]"
      ]
     },
     "execution_count": 11,
     "metadata": {},
     "output_type": "execute_result"
    }
   ],
   "source": [
    "alphas = [0.01, 0.1, 1, 10, 100] # Define alpha values to test\n",
    "coefficients = [] #Create a list to store coefficients for different alphas\n",
    "\n",
    "\n",
    "for a in alphas: #Loops through each alpha value defined above.\n",
    "    ridge = Ridge(alpha=a) #Initializes a Ridge regression model, passing the current alpha value.\n",
    "    ridge.fit(X_train, y_train)  #Fits the Ridge regression model on the training data to estimate the coefficients.\n",
    "    coefficients.append(ridge.coef_) #Gets the estimated coefficients from the fitted Ridge model and appends them to the coefficients list.\n",
    "print(coefficients)  #get the complete list of coefficients"
   ]
  },
  {
   "cell_type": "markdown",
   "id": "f08b4e81",
   "metadata": {},
   "source": [
    "### <font color=blue>Answer this Question</font>\n",
    "\n",
    "- **How does increasing α (and thus the regularization strength) influence the importance assigned to each feature by the Ridge Regression model?**\n",
    " *support your explanations with observations from the output.*\n",
    " "
   ]
  },
  {
   "cell_type": "code",
   "execution_count": null,
   "id": "cd0e5696",
   "metadata": {},
   "outputs": [],
   "source": []
  },
  {
   "cell_type": "markdown",
   "id": "7ee6eebc",
   "metadata": {},
   "source": [
    "**2). Use the following α values: 0.01, 0.1, 1, 10, and 100 to evaluate Model Performance for Different α Values as reflected in the  R^2 and RMSE metrics.**"
   ]
  },
  {
   "cell_type": "code",
   "execution_count": 13,
   "id": "daf93c89",
   "metadata": {},
   "outputs": [
    {
     "name": "stdout",
     "output_type": "stream",
     "text": [
      "For alpha = 0.01, R^2 = 0.690 and RMSE = 5.373\n",
      "For alpha = 0.1, R^2 = 0.690 and RMSE = 5.376\n",
      "For alpha = 1, R^2 = 0.686 and RMSE = 5.408\n",
      "For alpha = 10, R^2 = 0.677 and RMSE = 5.486\n",
      "For alpha = 100, R^2 = 0.650 and RMSE = 5.715\n"
     ]
    }
   ],
   "source": [
    "\n",
    "\n",
    "from sklearn.metrics import r2_score, mean_squared_error\n",
    "\n",
    "# Create empty lists to store R^2 and RMSE scores for each alpha value tried.\n",
    "r2_scores = []\n",
    "rmse_scores = []\n",
    "\n",
    "\n",
    "for a in alphas: #Loop through a list of alpha values\n",
    "    ridge = Ridge(alpha=a)  #For each alpha, create a Ridge regression model with that alpha\n",
    "    ridge.fit(X_train, y_train) #Fit it to the training data.\n",
    "    y_pred = ridge.predict(X_test) #Use the fitted model to make predictions on the test data.\n",
    "    \n",
    "    r2_scores.append(r2_score(y_test, y_pred)) #Calculate R^2 and append to r2_scores list\n",
    "    rmse_scores.append(np.sqrt(mean_squared_error(y_test, y_pred))) #Calculate RMSE and append to rmse_scores list\n",
    "\n",
    "# Print the scores for each alpha\n",
    "for a, r2, rmse in zip(alphas, r2_scores, rmse_scores): #Loop through alphas, r2_scores and rmse_scores together. The zip() function packages them together into an iterator of tuples.\n",
    "    print(f\"For alpha = {a}, R^2 = {r2:.3f} and RMSE = {rmse:.3f}\")\n",
    "\n"
   ]
  },
  {
   "cell_type": "markdown",
   "id": "76191208",
   "metadata": {},
   "source": [
    "### <font color=blue>Answer these Questions</font>\n",
    "\n",
    "- **Which α value gives the highest R^2 score?**\n",
    "- **Which α value gives the lowest RMSE?**\n",
    "- **Based on the above analyses, which α value would you recommend for this dataset? Why?**\n"
   ]
  },
  {
   "cell_type": "code",
   "execution_count": null,
   "id": "c1bfbec8",
   "metadata": {},
   "outputs": [],
   "source": []
  },
  {
   "cell_type": "code",
   "execution_count": null,
   "id": "c392cdec",
   "metadata": {},
   "outputs": [],
   "source": []
  },
  {
   "cell_type": "code",
   "execution_count": null,
   "id": "10154abc",
   "metadata": {},
   "outputs": [],
   "source": []
  },
  {
   "cell_type": "markdown",
   "id": "b8a319b6",
   "metadata": {},
   "source": [
    "<br>"
   ]
  },
  {
   "cell_type": "markdown",
   "id": "08c4b116",
   "metadata": {},
   "source": [
    "### 3: Lasso Regression\n",
    "\n",
    "Lasso regression, like Ridge regression, is a type of linear regression that includes a regularization term. The key difference is the type of penalty: Lasso regression adds a penalty equal to the absolute value of the magnitude of coefficients. This can result in feature selection wherein some of the coefficients become exactly zero."
   ]
  },
  {
   "cell_type": "markdown",
   "id": "456c3ffc",
   "metadata": {},
   "source": [
    "**Part a:**\n",
    "#### 1). Building the Lasso Model:"
   ]
  },
  {
   "cell_type": "code",
   "execution_count": 33,
   "id": "b2f66d04",
   "metadata": {},
   "outputs": [],
   "source": [
    "# Initialize the Lasso model with default alpha value (1.0)\n",
    "\n",
    "\n"
   ]
  },
  {
   "cell_type": "markdown",
   "id": "4ee7748e",
   "metadata": {},
   "source": [
    "#### 2). Training the Model:"
   ]
  },
  {
   "cell_type": "code",
   "execution_count": 10,
   "id": "9362bb58",
   "metadata": {},
   "outputs": [],
   "source": [
    "# Fit the Lasso model on the training data\n",
    "\n"
   ]
  },
  {
   "cell_type": "markdown",
   "id": "27bc81dd",
   "metadata": {},
   "source": [
    "#### 3). Model Evaluation:\n",
    "Once the model is trained, predict on the test set and evaluate its performance using the R^2 and RMSE metrics."
   ]
  },
  {
   "cell_type": "code",
   "execution_count": 7,
   "id": "9dbe0880",
   "metadata": {},
   "outputs": [],
   "source": [
    "# Predict on the test set\n",
    "\n",
    "\n",
    "# Calculate the R^2 score and RMSE for Lasso Regression\n"
   ]
  },
  {
   "cell_type": "code",
   "execution_count": null,
   "id": "94ad67a4",
   "metadata": {},
   "outputs": [],
   "source": []
  },
  {
   "cell_type": "markdown",
   "id": "c60f4541",
   "metadata": {},
   "source": [
    "#### Part B:  Investigating the Impact of Regularization Parameter (α) in Lasso Regression:\n",
    "Here, we'll train several Lasso Regression models with varying α values to observe the impact on the model coefficients. **We'll use the following α values: 0.01, 0.1, 1, 10, and 100.**\n"
   ]
  },
  {
   "cell_type": "markdown",
   "id": "385ecd5a",
   "metadata": {},
   "source": [
    "#### 1) Use a range of α values to observe the influence on the model coefficients and performance."
   ]
  },
  {
   "cell_type": "code",
   "execution_count": 36,
   "id": "4c454c48",
   "metadata": {},
   "outputs": [],
   "source": [
    "\n"
   ]
  },
  {
   "cell_type": "markdown",
   "id": "dba82f18",
   "metadata": {},
   "source": [
    "### <font color=blue>Answer this Question</font>\n",
    "\n",
    "**How does increasing α in Lasso Regression influence the coefficients? How does it differ from Ridge Regression?**"
   ]
  },
  {
   "cell_type": "code",
   "execution_count": null,
   "id": "9274a52c",
   "metadata": {},
   "outputs": [],
   "source": []
  },
  {
   "cell_type": "code",
   "execution_count": null,
   "id": "07d3c091",
   "metadata": {},
   "outputs": [],
   "source": []
  },
  {
   "cell_type": "markdown",
   "id": "14e2a8a2",
   "metadata": {},
   "source": [
    "#### b. Model Performance for Different α Values:\n",
    "    \n",
    "Evaluate the Lasso Regression model's performance for different α values using the R^2 and RMSE metrics."
   ]
  },
  {
   "cell_type": "code",
   "execution_count": 8,
   "id": "b279e3ce",
   "metadata": {},
   "outputs": [],
   "source": [
    "# For each alpha value, predict using Lasso and calculate the R^2 and RMSE\n",
    "\n"
   ]
  },
  {
   "cell_type": "markdown",
   "id": "e4663891",
   "metadata": {},
   "source": [
    "### <font color=blue>Answer these Questions</font>\n",
    "\n",
    "- **Which α value in Lasso Regression gives the highest R^2 score?**\n",
    "- **Which α value in Lasso Regression provides the lowest RMSE?**\n",
    "- **Given the results, which α value would you suggest for the Lasso model on this dataset? Why?**"
   ]
  },
  {
   "cell_type": "code",
   "execution_count": null,
   "id": "4a9a0313",
   "metadata": {},
   "outputs": [],
   "source": []
  },
  {
   "cell_type": "code",
   "execution_count": null,
   "id": "d61257ba",
   "metadata": {},
   "outputs": [],
   "source": []
  },
  {
   "cell_type": "markdown",
   "id": "4d3b1dec",
   "metadata": {},
   "source": [
    "Further Exploration (Optional):\n",
    "    \n",
    "- If you are interested, you could dive deeper into elastic net and compare its performance to ridge and lasso more extensively. Taking this extra step won't be graded, but it's a good way to deepen your understanding."
   ]
  },
  {
   "cell_type": "markdown",
   "id": "1d2214d0",
   "metadata": {},
   "source": [
    "<br>"
   ]
  },
  {
   "cell_type": "code",
   "execution_count": null,
   "id": "007d61cc",
   "metadata": {},
   "outputs": [],
   "source": []
  }
 ],
 "metadata": {
  "kernelspec": {
   "display_name": "Python 3 (ipykernel)",
   "language": "python",
   "name": "python3"
  },
  "language_info": {
   "codemirror_mode": {
    "name": "ipython",
    "version": 3
   },
   "file_extension": ".py",
   "mimetype": "text/x-python",
   "name": "python",
   "nbconvert_exporter": "python",
   "pygments_lexer": "ipython3",
   "version": "3.9.13"
  }
 },
 "nbformat": 4,
 "nbformat_minor": 5
}
